{
 "cells": [
  {
   "cell_type": "code",
   "execution_count": 1,
   "metadata": {
    "collapsed": false
   },
   "outputs": [],
   "source": [
    "%matplotlib inline\n",
    "\n",
    "import os\n",
    "import shutil\n",
    "import time\n",
    "\n",
    "from IPython.display import Image\n",
    "import matplotlib.pyplot as plt\n",
    "\n",
    "import numpy as np\n",
    "import scipy\n",
    "import torch\n",
    "import torch.nn as nn\n",
    "import torch.nn.parallel\n",
    "import torch.backends.cudnn as cudnn\n",
    "import torch.distributed as dist\n",
    "import torch.optim\n",
    "import torch.utils.data\n",
    "import torch.utils.data.distributed\n",
    "import torchvision.transforms as transforms\n",
    "import torchvision.datasets as datasets\n",
    "import torchvision.models as models\n",
    "\n",
    "import DataLoader"
   ]
  },
  {
   "cell_type": "code",
   "execution_count": 51,
   "metadata": {
    "collapsed": true
   },
   "outputs": [],
   "source": [
    "# Dataset Parameters\n",
    "batch_size = 200\n",
    "load_size = 128\n",
    "fine_size = 128\n",
    "c = 3\n",
    "data_mean = np.asarray([0.45834960097,0.44674252445,0.41352266842])\n",
    "\n",
    "use_cuda = True\n",
    "\n",
    "model_path = '../../data/models/resnet50_ep2.pt'"
   ]
  },
  {
   "cell_type": "code",
   "execution_count": 3,
   "metadata": {
    "collapsed": true
   },
   "outputs": [],
   "source": [
    "def construct_dataloader_test():\n",
    "    # Construct DataLoader\n",
    "    opt_data_test = {\n",
    "        'data_root': '../../data/images/',\n",
    "        'load_size': load_size,\n",
    "        'fine_size': fine_size,\n",
    "        'data_mean': data_mean\n",
    "    }\n",
    "    \n",
    "    return DataLoader.DataLoaderDiskTest(**opt_data_test)"
   ]
  },
  {
   "cell_type": "code",
   "execution_count": 4,
   "metadata": {
    "collapsed": true
   },
   "outputs": [],
   "source": [
    "def accuracy(output, target, topk=(1,)):\n",
    "    \"\"\"Computes the precision@k for the specified values of k\"\"\"\n",
    "    maxk = max(topk)\n",
    "    batch_size = target.size(0)\n",
    "\n",
    "    _, pred = output.topk(maxk, 1, True, True)\n",
    "    pred = pred.t()\n",
    "    correct = pred.eq(target.view(1, -1).expand_as(pred))\n",
    "\n",
    "    res = []\n",
    "    for k in topk:\n",
    "        correct_k = correct[:k].view(-1).float().sum(0, keepdim=True)\n",
    "        res.append(correct_k.mul_(100.0 / batch_size))\n",
    "    return res"
   ]
  },
  {
   "cell_type": "code",
   "execution_count": 14,
   "metadata": {
    "collapsed": true
   },
   "outputs": [],
   "source": [
    "def test(test_loader, model):\n",
    "    # switch to evaluate mode\n",
    "    model.eval()\n",
    "\n",
    "    preds = []\n",
    "    \n",
    "    for i in range(test_loader.size() // batch_size):\n",
    "        input, paths = test_loader.next_batch(batch_size)\n",
    "        if use_cuda:\n",
    "            input = input.cuda(async=True)\n",
    "        input_var = torch.autograd.Variable(input, volatile=True)\n",
    "\n",
    "        # compute output\n",
    "        output = model(input_var)\n",
    "        preds.append((paths, output))\n",
    "\n",
    "        print('Test: [{0}/{1}]\\t'.format((i+1)*batch_size, test_loader.size()))\n",
    "\n",
    "    return preds"
   ]
  },
  {
   "cell_type": "code",
   "execution_count": 11,
   "metadata": {
    "collapsed": false
   },
   "outputs": [
    {
     "name": "stdout",
     "output_type": "stream",
     "text": [
      "# Images found: 10000\n"
     ]
    }
   ],
   "source": [
    "test_loader = construct_dataloader_test()"
   ]
  },
  {
   "cell_type": "code",
   "execution_count": 12,
   "metadata": {
    "collapsed": false
   },
   "outputs": [],
   "source": [
    "model = torch.load(model_path)"
   ]
  },
  {
   "cell_type": "code",
   "execution_count": 17,
   "metadata": {
    "collapsed": false
   },
   "outputs": [
    {
     "name": "stdout",
     "output_type": "stream",
     "text": [
      "Test: [200/50.0]\t\n",
      "Test: [400/50.0]\t\n",
      "Test: [600/50.0]\t\n",
      "Test: [800/50.0]\t\n",
      "Test: [1000/50.0]\t\n",
      "Test: [1200/50.0]\t\n",
      "Test: [1400/50.0]\t\n",
      "Test: [1600/50.0]\t\n",
      "Test: [1800/50.0]\t\n",
      "Test: [2000/50.0]\t\n",
      "Test: [2200/50.0]\t\n",
      "Test: [2400/50.0]\t\n",
      "Test: [2600/50.0]\t\n",
      "Test: [2800/50.0]\t\n",
      "Test: [3000/50.0]\t\n",
      "Test: [3200/50.0]\t\n",
      "Test: [3400/50.0]\t\n",
      "Test: [3600/50.0]\t\n",
      "Test: [3800/50.0]\t\n",
      "Test: [4000/50.0]\t\n",
      "Test: [4200/50.0]\t\n",
      "Test: [4400/50.0]\t\n",
      "Test: [4600/50.0]\t\n",
      "Test: [4800/50.0]\t\n",
      "Test: [5000/50.0]\t\n",
      "Test: [5200/50.0]\t\n",
      "Test: [5400/50.0]\t\n",
      "Test: [5600/50.0]\t\n",
      "Test: [5800/50.0]\t\n",
      "Test: [6000/50.0]\t\n",
      "Test: [6200/50.0]\t\n",
      "Test: [6400/50.0]\t\n",
      "Test: [6600/50.0]\t\n",
      "Test: [6800/50.0]\t\n",
      "Test: [7000/50.0]\t\n",
      "Test: [7200/50.0]\t\n",
      "Test: [7400/50.0]\t\n",
      "Test: [7600/50.0]\t\n",
      "Test: [7800/50.0]\t\n",
      "Test: [8000/50.0]\t\n",
      "Test: [8200/50.0]\t\n",
      "Test: [8400/50.0]\t\n",
      "Test: [8600/50.0]\t\n",
      "Test: [8800/50.0]\t\n",
      "Test: [9000/50.0]\t\n",
      "Test: [9200/50.0]\t\n",
      "Test: [9400/50.0]\t\n",
      "Test: [9600/50.0]\t\n",
      "Test: [9800/50.0]\t\n",
      "Test: [10000/50.0]\t\n"
     ]
    }
   ],
   "source": [
    "model\n",
    "preds = test(test_loader, model)"
   ]
  },
  {
   "cell_type": "code",
   "execution_count": 26,
   "metadata": {
    "collapsed": false
   },
   "outputs": [],
   "source": [
    "preds = preds[-2:] + preds[:-2]"
   ]
  },
  {
   "cell_type": "code",
   "execution_count": 44,
   "metadata": {
    "collapsed": true
   },
   "outputs": [],
   "source": [
    "probs = preds"
   ]
  },
  {
   "cell_type": "code",
   "execution_count": 64,
   "metadata": {
    "collapsed": false
   },
   "outputs": [
    {
     "data": {
      "text/plain": [
       "(['../../data/images/test/00000001.jpg',\n",
       "  '../../data/images/test/00000002.jpg',\n",
       "  '../../data/images/test/00000003.jpg',\n",
       "  '../../data/images/test/00000004.jpg',\n",
       "  '../../data/images/test/00000005.jpg',\n",
       "  '../../data/images/test/00000006.jpg',\n",
       "  '../../data/images/test/00000007.jpg',\n",
       "  '../../data/images/test/00000008.jpg',\n",
       "  '../../data/images/test/00000009.jpg',\n",
       "  '../../data/images/test/00000010.jpg',\n",
       "  '../../data/images/test/00000011.jpg',\n",
       "  '../../data/images/test/00000012.jpg',\n",
       "  '../../data/images/test/00000013.jpg',\n",
       "  '../../data/images/test/00000014.jpg',\n",
       "  '../../data/images/test/00000015.jpg',\n",
       "  '../../data/images/test/00000016.jpg',\n",
       "  '../../data/images/test/00000017.jpg',\n",
       "  '../../data/images/test/00000018.jpg',\n",
       "  '../../data/images/test/00000019.jpg',\n",
       "  '../../data/images/test/00000020.jpg',\n",
       "  '../../data/images/test/00000021.jpg',\n",
       "  '../../data/images/test/00000022.jpg',\n",
       "  '../../data/images/test/00000023.jpg',\n",
       "  '../../data/images/test/00000024.jpg',\n",
       "  '../../data/images/test/00000025.jpg',\n",
       "  '../../data/images/test/00000026.jpg',\n",
       "  '../../data/images/test/00000027.jpg',\n",
       "  '../../data/images/test/00000028.jpg',\n",
       "  '../../data/images/test/00000029.jpg',\n",
       "  '../../data/images/test/00000030.jpg',\n",
       "  '../../data/images/test/00000031.jpg',\n",
       "  '../../data/images/test/00000032.jpg',\n",
       "  '../../data/images/test/00000033.jpg',\n",
       "  '../../data/images/test/00000034.jpg',\n",
       "  '../../data/images/test/00000035.jpg',\n",
       "  '../../data/images/test/00000036.jpg',\n",
       "  '../../data/images/test/00000037.jpg',\n",
       "  '../../data/images/test/00000038.jpg',\n",
       "  '../../data/images/test/00000039.jpg',\n",
       "  '../../data/images/test/00000040.jpg',\n",
       "  '../../data/images/test/00000041.jpg',\n",
       "  '../../data/images/test/00000042.jpg',\n",
       "  '../../data/images/test/00000043.jpg',\n",
       "  '../../data/images/test/00000044.jpg',\n",
       "  '../../data/images/test/00000045.jpg',\n",
       "  '../../data/images/test/00000046.jpg',\n",
       "  '../../data/images/test/00000047.jpg',\n",
       "  '../../data/images/test/00000048.jpg',\n",
       "  '../../data/images/test/00000049.jpg',\n",
       "  '../../data/images/test/00000050.jpg',\n",
       "  '../../data/images/test/00000051.jpg',\n",
       "  '../../data/images/test/00000052.jpg',\n",
       "  '../../data/images/test/00000053.jpg',\n",
       "  '../../data/images/test/00000054.jpg',\n",
       "  '../../data/images/test/00000055.jpg',\n",
       "  '../../data/images/test/00000056.jpg',\n",
       "  '../../data/images/test/00000057.jpg',\n",
       "  '../../data/images/test/00000058.jpg',\n",
       "  '../../data/images/test/00000059.jpg',\n",
       "  '../../data/images/test/00000060.jpg',\n",
       "  '../../data/images/test/00000061.jpg',\n",
       "  '../../data/images/test/00000062.jpg',\n",
       "  '../../data/images/test/00000063.jpg',\n",
       "  '../../data/images/test/00000064.jpg',\n",
       "  '../../data/images/test/00000065.jpg',\n",
       "  '../../data/images/test/00000066.jpg',\n",
       "  '../../data/images/test/00000067.jpg',\n",
       "  '../../data/images/test/00000068.jpg',\n",
       "  '../../data/images/test/00000069.jpg',\n",
       "  '../../data/images/test/00000070.jpg',\n",
       "  '../../data/images/test/00000071.jpg',\n",
       "  '../../data/images/test/00000072.jpg',\n",
       "  '../../data/images/test/00000073.jpg',\n",
       "  '../../data/images/test/00000074.jpg',\n",
       "  '../../data/images/test/00000075.jpg',\n",
       "  '../../data/images/test/00000076.jpg',\n",
       "  '../../data/images/test/00000077.jpg',\n",
       "  '../../data/images/test/00000078.jpg',\n",
       "  '../../data/images/test/00000079.jpg',\n",
       "  '../../data/images/test/00000080.jpg',\n",
       "  '../../data/images/test/00000081.jpg',\n",
       "  '../../data/images/test/00000082.jpg',\n",
       "  '../../data/images/test/00000083.jpg',\n",
       "  '../../data/images/test/00000084.jpg',\n",
       "  '../../data/images/test/00000085.jpg',\n",
       "  '../../data/images/test/00000086.jpg',\n",
       "  '../../data/images/test/00000087.jpg',\n",
       "  '../../data/images/test/00000088.jpg',\n",
       "  '../../data/images/test/00000089.jpg',\n",
       "  '../../data/images/test/00000090.jpg',\n",
       "  '../../data/images/test/00000091.jpg',\n",
       "  '../../data/images/test/00000092.jpg',\n",
       "  '../../data/images/test/00000093.jpg',\n",
       "  '../../data/images/test/00000094.jpg',\n",
       "  '../../data/images/test/00000095.jpg',\n",
       "  '../../data/images/test/00000096.jpg',\n",
       "  '../../data/images/test/00000097.jpg',\n",
       "  '../../data/images/test/00000098.jpg',\n",
       "  '../../data/images/test/00000099.jpg',\n",
       "  '../../data/images/test/00000100.jpg',\n",
       "  '../../data/images/test/00000101.jpg',\n",
       "  '../../data/images/test/00000102.jpg',\n",
       "  '../../data/images/test/00000103.jpg',\n",
       "  '../../data/images/test/00000104.jpg',\n",
       "  '../../data/images/test/00000105.jpg',\n",
       "  '../../data/images/test/00000106.jpg',\n",
       "  '../../data/images/test/00000107.jpg',\n",
       "  '../../data/images/test/00000108.jpg',\n",
       "  '../../data/images/test/00000109.jpg',\n",
       "  '../../data/images/test/00000110.jpg',\n",
       "  '../../data/images/test/00000111.jpg',\n",
       "  '../../data/images/test/00000112.jpg',\n",
       "  '../../data/images/test/00000113.jpg',\n",
       "  '../../data/images/test/00000114.jpg',\n",
       "  '../../data/images/test/00000115.jpg',\n",
       "  '../../data/images/test/00000116.jpg',\n",
       "  '../../data/images/test/00000117.jpg',\n",
       "  '../../data/images/test/00000118.jpg',\n",
       "  '../../data/images/test/00000119.jpg',\n",
       "  '../../data/images/test/00000120.jpg',\n",
       "  '../../data/images/test/00000121.jpg',\n",
       "  '../../data/images/test/00000122.jpg',\n",
       "  '../../data/images/test/00000123.jpg',\n",
       "  '../../data/images/test/00000124.jpg',\n",
       "  '../../data/images/test/00000125.jpg',\n",
       "  '../../data/images/test/00000126.jpg',\n",
       "  '../../data/images/test/00000127.jpg',\n",
       "  '../../data/images/test/00000128.jpg',\n",
       "  '../../data/images/test/00000129.jpg',\n",
       "  '../../data/images/test/00000130.jpg',\n",
       "  '../../data/images/test/00000131.jpg',\n",
       "  '../../data/images/test/00000132.jpg',\n",
       "  '../../data/images/test/00000133.jpg',\n",
       "  '../../data/images/test/00000134.jpg',\n",
       "  '../../data/images/test/00000135.jpg',\n",
       "  '../../data/images/test/00000136.jpg',\n",
       "  '../../data/images/test/00000137.jpg',\n",
       "  '../../data/images/test/00000138.jpg',\n",
       "  '../../data/images/test/00000139.jpg',\n",
       "  '../../data/images/test/00000140.jpg',\n",
       "  '../../data/images/test/00000141.jpg',\n",
       "  '../../data/images/test/00000142.jpg',\n",
       "  '../../data/images/test/00000143.jpg',\n",
       "  '../../data/images/test/00000144.jpg',\n",
       "  '../../data/images/test/00000145.jpg',\n",
       "  '../../data/images/test/00000146.jpg',\n",
       "  '../../data/images/test/00000147.jpg',\n",
       "  '../../data/images/test/00000148.jpg',\n",
       "  '../../data/images/test/00000149.jpg',\n",
       "  '../../data/images/test/00000150.jpg',\n",
       "  '../../data/images/test/00000151.jpg',\n",
       "  '../../data/images/test/00000152.jpg',\n",
       "  '../../data/images/test/00000153.jpg',\n",
       "  '../../data/images/test/00000154.jpg',\n",
       "  '../../data/images/test/00000155.jpg',\n",
       "  '../../data/images/test/00000156.jpg',\n",
       "  '../../data/images/test/00000157.jpg',\n",
       "  '../../data/images/test/00000158.jpg',\n",
       "  '../../data/images/test/00000159.jpg',\n",
       "  '../../data/images/test/00000160.jpg',\n",
       "  '../../data/images/test/00000161.jpg',\n",
       "  '../../data/images/test/00000162.jpg',\n",
       "  '../../data/images/test/00000163.jpg',\n",
       "  '../../data/images/test/00000164.jpg',\n",
       "  '../../data/images/test/00000165.jpg',\n",
       "  '../../data/images/test/00000166.jpg',\n",
       "  '../../data/images/test/00000167.jpg',\n",
       "  '../../data/images/test/00000168.jpg',\n",
       "  '../../data/images/test/00000169.jpg',\n",
       "  '../../data/images/test/00000170.jpg',\n",
       "  '../../data/images/test/00000171.jpg',\n",
       "  '../../data/images/test/00000172.jpg',\n",
       "  '../../data/images/test/00000173.jpg',\n",
       "  '../../data/images/test/00000174.jpg',\n",
       "  '../../data/images/test/00000175.jpg',\n",
       "  '../../data/images/test/00000176.jpg',\n",
       "  '../../data/images/test/00000177.jpg',\n",
       "  '../../data/images/test/00000178.jpg',\n",
       "  '../../data/images/test/00000179.jpg',\n",
       "  '../../data/images/test/00000180.jpg',\n",
       "  '../../data/images/test/00000181.jpg',\n",
       "  '../../data/images/test/00000182.jpg',\n",
       "  '../../data/images/test/00000183.jpg',\n",
       "  '../../data/images/test/00000184.jpg',\n",
       "  '../../data/images/test/00000185.jpg',\n",
       "  '../../data/images/test/00000186.jpg',\n",
       "  '../../data/images/test/00000187.jpg',\n",
       "  '../../data/images/test/00000188.jpg',\n",
       "  '../../data/images/test/00000189.jpg',\n",
       "  '../../data/images/test/00000190.jpg',\n",
       "  '../../data/images/test/00000191.jpg',\n",
       "  '../../data/images/test/00000192.jpg',\n",
       "  '../../data/images/test/00000193.jpg',\n",
       "  '../../data/images/test/00000194.jpg',\n",
       "  '../../data/images/test/00000195.jpg',\n",
       "  '../../data/images/test/00000196.jpg',\n",
       "  '../../data/images/test/00000197.jpg',\n",
       "  '../../data/images/test/00000198.jpg',\n",
       "  '../../data/images/test/00000199.jpg',\n",
       "  '../../data/images/test/00000200.jpg'],\n",
       " Variable containing:\n",
       "  1.2151e+00  2.8431e+00  3.4211e+00  ...  -2.9534e-01 -2.9533e-01 -2.9533e-01\n",
       "  2.6330e+00  1.8286e+00  3.8762e+00  ...  -3.0395e-01 -3.0394e-01 -3.0394e-01\n",
       "  3.4936e+00  2.9998e+00  1.1437e+00  ...  -3.1174e-01 -3.1174e-01 -3.1174e-01\n",
       "                 ...                   ⋱                   ...                \n",
       "  3.1808e+00  9.4066e-01  2.7170e+00  ...  -2.9671e-01 -2.9671e-01 -2.9670e-01\n",
       "  2.3774e+00  1.9110e+00  3.6237e+00  ...  -3.1234e-01 -3.1233e-01 -3.1234e-01\n",
       "  3.8480e+00  3.3369e+00  2.6148e+00  ...  -3.4545e-01 -3.4545e-01 -3.4545e-01\n",
       " [torch.FloatTensor of size 200x1000])"
      ]
     },
     "execution_count": 64,
     "metadata": {},
     "output_type": "execute_result"
    }
   ],
   "source": [
    "probs[0]"
   ]
  },
  {
   "cell_type": "code",
   "execution_count": 62,
   "metadata": {
    "collapsed": false
   },
   "outputs": [],
   "source": [
    "with open(model_path + '_preds.txt', 'w') as f:\n",
    "    for paths, batch_probs in preds:\n",
    "        batch_preds = probs[0][1].data.topk(5, 1, True, True)[1]\n",
    "#         batch_preds = batch_probs.data.numpy().argsort(axis=1)[:, :5]\n",
    "        for path, top5 in zip(paths, batch_preds):\n",
    "            path = 'test/' + os.path.basename(path)\n",
    "            f.write('{} {} {} {} {} {}\\n'.format(path, *top5))"
   ]
  }
 ],
 "metadata": {
  "anaconda-cloud": {},
  "kernelspec": {
   "display_name": "Python [default]",
   "language": "python",
   "name": "python3"
  },
  "language_info": {
   "codemirror_mode": {
    "name": "ipython",
    "version": 3
   },
   "file_extension": ".py",
   "mimetype": "text/x-python",
   "name": "python",
   "nbconvert_exporter": "python",
   "pygments_lexer": "ipython3",
   "version": "3.5.2"
  }
 },
 "nbformat": 4,
 "nbformat_minor": 2
}
