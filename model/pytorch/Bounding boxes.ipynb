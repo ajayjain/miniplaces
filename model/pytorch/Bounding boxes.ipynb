{
 "cells": [
  {
   "cell_type": "code",
   "execution_count": 11,
   "metadata": {
    "collapsed": true
   },
   "outputs": [],
   "source": [
    "%matplotlib inline\n",
    "\n",
    "import glob\n",
    "import xml.etree.ElementTree as ET\n",
    "\n",
    "import os\n",
    "import shutil\n",
    "import time\n",
    "\n",
    "from IPython.display import Image\n",
    "import matplotlib.pyplot as plt\n",
    "\n",
    "import numpy as np\n",
    "import torch\n",
    "import torch.nn as nn\n",
    "import torch.nn.parallel\n",
    "import torch.backends.cudnn as cudnn\n",
    "import torch.distributed as dist\n",
    "import torch.optim\n",
    "import torch.utils.data\n",
    "import torch.utils.data.distributed\n",
    "import torchvision.transforms as transforms\n",
    "import torchvision.datasets as datasets\n",
    "import torchvision.models as models\n",
    "\n",
    "import DataLoader\n",
    "from densenet_modified import densenet201"
   ]
  },
  {
   "cell_type": "code",
   "execution_count": 56,
   "metadata": {
    "collapsed": false
   },
   "outputs": [],
   "source": [
    "# def load_xml():\n",
    "object_files = glob.glob(\"../../data/objects/train/*/*/*.xml\")\n",
    "object_files.sort()\n",
    "\n",
    "objects = []\n",
    "\n",
    "for path in object_files:\n",
    "    with open(path, \"r\") as f:\n",
    "        xml = f.read()\n",
    "        xml = \"\"\"<?xml version=\"1.0\"?>\n",
    "        <base>\n",
    "        \"\"\" + xml + \"\"\"\n",
    "        </base>\n",
    "        \"\"\"\n",
    "        \n",
    "        tree = ET.fromstring(xml)\n",
    "        \n",
    "        path = os.path.join(\"../../data/images/train\", tree.find(\"folder\").text, tree.find(\"filename\").text)\n",
    "        \n",
    "        objs = []\n",
    "        for obj in tree.findall(\"objects\"):\n",
    "            bndbox = obj.find(\"bndbox\")\n",
    "            objdata = {\n",
    "                \"class\": int(obj.find(\"class\").text),\n",
    "                # \"polygon\": obj.find(\"polygon\"),  # ignoring polygon for now\n",
    "                \"bndbox\": (\n",
    "                    (\n",
    "                        int(bndbox.find(\"xmin\").text),\n",
    "                        int(bndbox.find(\"xmax\").text)\n",
    "                    ),\n",
    "                    (\n",
    "                        int(bndbox.find(\"ymin\").text),\n",
    "                        int(bndbox.find(\"ymax\").text)\n",
    "                    )\n",
    "                )\n",
    "            }\n",
    "            objs.append(objdata)\n",
    "        \n",
    "        data = {\n",
    "            \"path\": path,\n",
    "            \"class\": int(tree.find(\"class\").text),\n",
    "            \"objects\": objs,\n",
    "        }\n",
    "        objects.append(data)"
   ]
  },
  {
   "cell_type": "code",
   "execution_count": 58,
   "metadata": {
    "collapsed": false
   },
   "outputs": [
    {
     "data": {
      "text/plain": [
       "46706"
      ]
     },
     "execution_count": 58,
     "metadata": {},
     "output_type": "execute_result"
    }
   ],
   "source": [
    "sum(map(lambda o: len(o['objects']), objects))"
   ]
  }
 ],
 "metadata": {
  "anaconda-cloud": {},
  "kernelspec": {
   "display_name": "Python [default]",
   "language": "python",
   "name": "python3"
  },
  "language_info": {
   "codemirror_mode": {
    "name": "ipython",
    "version": 3
   },
   "file_extension": ".py",
   "mimetype": "text/x-python",
   "name": "python",
   "nbconvert_exporter": "python",
   "pygments_lexer": "ipython3",
   "version": "3.5.2"
  }
 },
 "nbformat": 4,
 "nbformat_minor": 1
}
